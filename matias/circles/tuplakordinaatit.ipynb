{
 "cells": [
  {
   "cell_type": "code",
   "execution_count": 15,
   "metadata": {},
   "outputs": [],
   "source": [
    "import numpy as np\n",
    "import argparse\n",
    "import cv2\n",
    "import warnings as w\n",
    "w.filterwarnings('ignore')\n",
    "#import pandas as pd\n",
    "\n",
    "# construct the argument parser and parse the arguments\n",
    "#ap = argparse.ArgumentParser()\n",
    "#ap.add_argument(\"-i\", \"--image\", required = True, help = \"Path to the image\")\n",
    "#args = vars(ap.parse_args())\n",
    "\n",
    "# load the image, clone it for output, and then convert it to grayscale\n",
    "image = cv2.imread('data/fisutesti2.png')\n",
    "image2 = cv2.imread('data/fisutesti3.png')\n",
    "output = image.copy()\n",
    "output2 = image2.copy()\n",
    "gray = cv2.cvtColor(image, cv2.COLOR_BGR2GRAY)\n",
    "gray2 = cv2.cvtColor(image2, cv2.COLOR_BGR2GRAY)\n",
    "# detect circles in the image\n",
    "circles = cv2.HoughCircles(gray,cv2.HOUGH_GRADIENT,1.5,7,\n",
    "                            param1=100,param2=30,minRadius=5,maxRadius=20)[:20]\n",
    "circles2 = cv2.HoughCircles(gray2,cv2.HOUGH_GRADIENT,1.5,7,\n",
    "                            param1=100,param2=30,minRadius=5,maxRadius=20)[:20]\n",
    "\n",
    "# ensure at least some circles were found\n",
    "#if circles is not None:\n",
    "# convert the (x, y) coordinates and radius of the circles to integers\n",
    "circles = np.round(circles[0, :]).astype(\"int\")\n",
    "circles2 = np.round(circles2[0, :]).astype(\"int\")"
   ]
  },
  {
   "cell_type": "code",
   "execution_count": 2,
   "metadata": {},
   "outputs": [],
   "source": [
    "coordinates = []\n",
    "for (x, y, r) in circles:\n",
    "    coordinates.append(circles[:20])\n",
    "    cv2.circle(output, (x, y), r, (0, 255, 0), 4)\n",
    "    cv2.rectangle(output, (x - 5, y - 5), (x + 5, y + 5), (0, 128, 255), -1)\n",
    "    \n",
    "coordinates2 = []\n",
    "for (x, y, r) in circles2:\n",
    "    coordinates2.append(circles2[:20])\n",
    "    cv2.circle(output2, (x, y), r, (0, 255, 0), 4)\n",
    "    cv2.rectangle(output2, (x - 5, y - 5), (x + 5, y + 5), (0, 128, 255), -1)\n",
    " "
   ]
  },
  {
   "cell_type": "code",
   "execution_count": 3,
   "metadata": {},
   "outputs": [],
   "source": [
    "circle=cv2.circle(output, (x, y), r, (0, 255, 0), 4)"
   ]
  },
  {
   "cell_type": "code",
   "execution_count": 49,
   "metadata": {
    "scrolled": false
   },
   "outputs": [
    {
     "data": {
      "text/plain": [
       "array([[ 248,  197,   19],\n",
       "       [ 163,  809,   19],\n",
       "       [ 917,  944,   16],\n",
       "       [ 992,  166,   16],\n",
       "       [1412,  581,   12],\n",
       "       [1762,  283,   16],\n",
       "       [1753,  287,   16],\n",
       "       [1195,  620,   12],\n",
       "       [ 986,  149,   14],\n",
       "       [1667,  926,   16],\n",
       "       [ 155,  815,   14],\n",
       "       [ 164,  818,   14],\n",
       "       [ 995,  149,   14],\n",
       "       [1435,  542,   14],\n",
       "       [ 911,  955,   14],\n",
       "       [1346,  371,   14],\n",
       "       [  83,  560,   19],\n",
       "       [ 920,  955,   14],\n",
       "       [ 418,  479,   12],\n",
       "       [  82,  553,   19],\n",
       "       [1481,  602,   19],\n",
       "       [1454,  616,   16],\n",
       "       [ 905,  959,   12],\n",
       "       [1502,  617,   14],\n",
       "       [1765,  290,   11],\n",
       "       [1736,  281,   16],\n",
       "       [ 254,  193,   12],\n",
       "       [ 557,  493,   16],\n",
       "       [1516,  598,   11],\n",
       "       [ 910,  941,   12],\n",
       "       [ 916,  937,   12],\n",
       "       [ 986,  157,   11],\n",
       "       [ 983,  170,   12],\n",
       "       [1370,  350,   12],\n",
       "       [ 916,  962,   11],\n",
       "       [ 181,  815,   14],\n",
       "       [ 257,  202,   12],\n",
       "       [1757,  295,   11],\n",
       "       [ 439,  640,   14],\n",
       "       [1457,  593,   16],\n",
       "       [1670,  916,   12],\n",
       "       [1679,  299,   11],\n",
       "       [1535,  304,    9],\n",
       "       [  85,  530,   14],\n",
       "       [1463,  587,   14],\n",
       "       [ 997,  160,   11],\n",
       "       [1547,  304,   11],\n",
       "       [1673,  931,    9],\n",
       "       [ 247,  187,    9],\n",
       "       [  65,  544,   16],\n",
       "       [1498,  400,   12],\n",
       "       [1415,  608,   11],\n",
       "       [1454,  682,   11],\n",
       "       [1559,  484,   14],\n",
       "       [1427,  608,   12],\n",
       "       [ 472,  383,   11],\n",
       "       [ 164,  826,    9],\n",
       "       [ 241,  199,    9],\n",
       "       [1490,  398,   12],\n",
       "       [1361,  350,    9],\n",
       "       [1025,  161,   19],\n",
       "       [1682,  892,   19],\n",
       "       [1447,  617,   11],\n",
       "       [1675,  922,    9],\n",
       "       [1403,  578,    9],\n",
       "       [ 368, 1034,    6],\n",
       "       [1426,  544,   11],\n",
       "       [1445,  682,   11],\n",
       "       [ 925,  949,    8]])"
      ]
     },
     "execution_count": 49,
     "metadata": {},
     "output_type": "execute_result"
    }
   ],
   "source": [
    "circles"
   ]
  },
  {
   "cell_type": "code",
   "execution_count": 48,
   "metadata": {},
   "outputs": [
    {
     "data": {
      "text/plain": [
       "array([[ 916,  955,   19],\n",
       "       [ 253,  199,   17],\n",
       "       [ 919,  941,   17],\n",
       "       [1670,  925,   16],\n",
       "       [1457,  596,   19],\n",
       "       [ 992,  167,   16],\n",
       "       [1403,  490,   14],\n",
       "       [ 994,  154,   14],\n",
       "       [1456,  620,   14],\n",
       "       [1748,  274,   19],\n",
       "       [1756,  287,   14],\n",
       "       [1762,  292,   14],\n",
       "       [1195,  620,   12],\n",
       "       [ 161,  815,   14],\n",
       "       [1472,  607,   17],\n",
       "       [ 986,  152,   12],\n",
       "       [1343,  368,   17],\n",
       "       [1654,  926,   17],\n",
       "       [ 986,  172,   11],\n",
       "       [ 439,  643,   16],\n",
       "       [1414,  581,   14],\n",
       "       [1493,  589,   14],\n",
       "       [1763,  284,   12],\n",
       "       [ 247,  190,   12],\n",
       "       [1460,  589,   12],\n",
       "       [ 154,  817,   12],\n",
       "       [1345,  380,   17],\n",
       "       [ 158,  823,   11],\n",
       "       [ 454,  509,    9],\n",
       "       [ 908,  944,   12],\n",
       "       [1543,  305,   10],\n",
       "       [1435,  545,   12],\n",
       "       [ 998,  160,   11],\n",
       "       [ 101,  995,   14],\n",
       "       [ 922,  962,   11],\n",
       "       [ 988,  160,   11],\n",
       "       [1676,  929,   11],\n",
       "       [1534,  400,    9],\n",
       "       [1675,  919,    9],\n",
       "       [ 439,  635,   15],\n",
       "       [ 248,  206,   14],\n",
       "       [1526,  395,   14],\n",
       "       [ 913,  964,   11],\n",
       "       [1405,  581,   12],\n",
       "       [1565,  482,   12],\n",
       "       [1411,  757,   12],\n",
       "       [ 175,  806,   11],\n",
       "       [1735,  280,   14],\n",
       "       [ 982,  166,   11],\n",
       "       [1739,  295,   11],\n",
       "       [ 995,  143,    9],\n",
       "       [ 256,  188,   11],\n",
       "       [1453,  589,   11],\n",
       "       [1661,  923,    9],\n",
       "       [1469,  748,   15],\n",
       "       [1427,  688,   14],\n",
       "       [1747,  293,    9],\n",
       "       [  82, 1000,   14],\n",
       "       [1480,  610,   12],\n",
       "       [1679,  301,    9],\n",
       "       [1661,  932,   11],\n",
       "       [1553,  481,   11],\n",
       "       [ 914,  934,    9],\n",
       "       [1424,  608,   12],\n",
       "       [ 179,  815,   12],\n",
       "       [1415,  607,   11],\n",
       "       [ 472,  383,   13]])"
      ]
     },
     "execution_count": 48,
     "metadata": {},
     "output_type": "execute_result"
    }
   ],
   "source": [
    "circles2"
   ]
  },
  {
   "cell_type": "code",
   "execution_count": 6,
   "metadata": {},
   "outputs": [
    {
     "data": {
      "text/plain": [
       "-1"
      ]
     },
     "execution_count": 6,
     "metadata": {},
     "output_type": "execute_result"
    }
   ],
   "source": [
    "#cv2.imshow(\"output\", np.hstack([image, output]))\n",
    "#cv2.imshow(\"output\", np.hstack([output, output2]))\n",
    "cv2.waitKey(0)"
   ]
  },
  {
   "cell_type": "code",
   "execution_count": null,
   "metadata": {},
   "outputs": [],
   "source": [
    "#df = pd.DataFrame(np.array([[circles], [circles2]]),columns=['a'])"
   ]
  },
  {
   "cell_type": "code",
   "execution_count": 50,
   "metadata": {},
   "outputs": [
    {
     "data": {
      "text/plain": [
       "{(65, 544, 16),\n",
       " (82, 553, 19),\n",
       " (82, 1000, 14),\n",
       " (83, 560, 19),\n",
       " (85, 530, 14),\n",
       " (101, 995, 14),\n",
       " (154, 817, 12),\n",
       " (155, 815, 14),\n",
       " (158, 823, 11),\n",
       " (161, 815, 14),\n",
       " (163, 809, 19),\n",
       " (164, 818, 14),\n",
       " (164, 826, 9),\n",
       " (175, 806, 11),\n",
       " (179, 815, 12),\n",
       " (181, 815, 14),\n",
       " (241, 199, 9),\n",
       " (247, 187, 9),\n",
       " (247, 190, 12),\n",
       " (248, 197, 19),\n",
       " (248, 206, 14),\n",
       " (253, 199, 17),\n",
       " (254, 193, 12),\n",
       " (256, 188, 11),\n",
       " (257, 202, 12),\n",
       " (368, 1034, 6),\n",
       " (418, 479, 12),\n",
       " (439, 635, 15),\n",
       " (439, 640, 14),\n",
       " (439, 643, 16),\n",
       " (454, 509, 9),\n",
       " (472, 383, 11),\n",
       " (472, 383, 13),\n",
       " (557, 493, 16),\n",
       " (905, 959, 12),\n",
       " (908, 944, 12),\n",
       " (910, 941, 12),\n",
       " (911, 955, 14),\n",
       " (913, 964, 11),\n",
       " (914, 934, 9),\n",
       " (916, 937, 12),\n",
       " (916, 955, 19),\n",
       " (916, 962, 11),\n",
       " (917, 944, 16),\n",
       " (919, 941, 17),\n",
       " (920, 955, 14),\n",
       " (922, 962, 11),\n",
       " (925, 949, 8),\n",
       " (982, 166, 11),\n",
       " (983, 170, 12),\n",
       " (986, 149, 14),\n",
       " (986, 152, 12),\n",
       " (986, 157, 11),\n",
       " (986, 172, 11),\n",
       " (988, 160, 11),\n",
       " (992, 166, 16),\n",
       " (992, 167, 16),\n",
       " (994, 154, 14),\n",
       " (995, 143, 9),\n",
       " (995, 149, 14),\n",
       " (997, 160, 11),\n",
       " (998, 160, 11),\n",
       " (1025, 161, 19),\n",
       " (1343, 368, 17),\n",
       " (1345, 380, 17),\n",
       " (1346, 371, 14),\n",
       " (1361, 350, 9),\n",
       " (1370, 350, 12),\n",
       " (1403, 490, 14),\n",
       " (1403, 578, 9),\n",
       " (1405, 581, 12),\n",
       " (1411, 757, 12),\n",
       " (1412, 581, 12),\n",
       " (1414, 581, 14),\n",
       " (1415, 607, 11),\n",
       " (1415, 608, 11),\n",
       " (1424, 608, 12),\n",
       " (1426, 544, 11),\n",
       " (1427, 608, 12),\n",
       " (1427, 688, 14),\n",
       " (1435, 542, 14),\n",
       " (1435, 545, 12),\n",
       " (1445, 682, 11),\n",
       " (1447, 617, 11),\n",
       " (1453, 589, 11),\n",
       " (1454, 616, 16),\n",
       " (1454, 682, 11),\n",
       " (1456, 620, 14),\n",
       " (1457, 593, 16),\n",
       " (1457, 596, 19),\n",
       " (1460, 589, 12),\n",
       " (1463, 587, 14),\n",
       " (1469, 748, 15),\n",
       " (1472, 607, 17),\n",
       " (1480, 610, 12),\n",
       " (1481, 602, 19),\n",
       " (1490, 398, 12),\n",
       " (1493, 589, 14),\n",
       " (1498, 400, 12),\n",
       " (1502, 617, 14),\n",
       " (1516, 598, 11),\n",
       " (1526, 395, 14),\n",
       " (1534, 400, 9),\n",
       " (1535, 304, 9),\n",
       " (1543, 305, 10),\n",
       " (1547, 304, 11),\n",
       " (1553, 481, 11),\n",
       " (1559, 484, 14),\n",
       " (1565, 482, 12),\n",
       " (1654, 926, 17),\n",
       " (1661, 923, 9),\n",
       " (1661, 932, 11),\n",
       " (1667, 926, 16),\n",
       " (1670, 916, 12),\n",
       " (1670, 925, 16),\n",
       " (1673, 931, 9),\n",
       " (1675, 919, 9),\n",
       " (1675, 922, 9),\n",
       " (1676, 929, 11),\n",
       " (1679, 299, 11),\n",
       " (1679, 301, 9),\n",
       " (1682, 892, 19),\n",
       " (1735, 280, 14),\n",
       " (1736, 281, 16),\n",
       " (1739, 295, 11),\n",
       " (1747, 293, 9),\n",
       " (1748, 274, 19),\n",
       " (1753, 287, 16),\n",
       " (1756, 287, 14),\n",
       " (1757, 295, 11),\n",
       " (1762, 283, 16),\n",
       " (1762, 292, 14),\n",
       " (1763, 284, 12),\n",
       " (1765, 290, 11)}"
      ]
     },
     "execution_count": 50,
     "metadata": {},
     "output_type": "execute_result"
    }
   ],
   "source": [
    "first_set = set(map(tuple, circles))\n",
    "secnd_set = set(map(tuple, circles2))\n",
    "first_set.symmetric_difference(secnd_set)"
   ]
  },
  {
   "cell_type": "code",
   "execution_count": 52,
   "metadata": {},
   "outputs": [],
   "source": [
    "hits = 0\n",
    "miss = 0\n",
    "if len(first_set.symmetric_difference(secnd_set)) != 0:\n",
    "    hits += 1\n",
    "else:\n",
    "    miss += 1\n",
    "    "
   ]
  },
  {
   "cell_type": "code",
   "execution_count": 53,
   "metadata": {},
   "outputs": [
    {
     "name": "stdout",
     "output_type": "stream",
     "text": [
      "1\n"
     ]
    }
   ],
   "source": [
    "print(hits)"
   ]
  },
  {
   "cell_type": "code",
   "execution_count": 54,
   "metadata": {},
   "outputs": [
    {
     "data": {
      "text/plain": [
       "1.0"
      ]
     },
     "execution_count": 54,
     "metadata": {},
     "output_type": "execute_result"
    }
   ],
   "source": [
    "miss+hits/(hits)"
   ]
  },
  {
   "cell_type": "code",
   "execution_count": null,
   "metadata": {},
   "outputs": [],
   "source": []
  },
  {
   "cell_type": "code",
   "execution_count": null,
   "metadata": {},
   "outputs": [],
   "source": []
  },
  {
   "cell_type": "code",
   "execution_count": null,
   "metadata": {},
   "outputs": [],
   "source": []
  },
  {
   "cell_type": "code",
   "execution_count": null,
   "metadata": {},
   "outputs": [],
   "source": []
  }
 ],
 "metadata": {
  "kernelspec": {
   "display_name": "Python 3",
   "language": "python",
   "name": "python3"
  },
  "language_info": {
   "codemirror_mode": {
    "name": "ipython",
    "version": 3
   },
   "file_extension": ".py",
   "mimetype": "text/x-python",
   "name": "python",
   "nbconvert_exporter": "python",
   "pygments_lexer": "ipython3",
   "version": "3.7.1"
  }
 },
 "nbformat": 4,
 "nbformat_minor": 2
}
